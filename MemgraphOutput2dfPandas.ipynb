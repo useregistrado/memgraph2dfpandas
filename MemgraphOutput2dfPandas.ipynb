{
 "cells": [
  {
   "cell_type": "code",
   "execution_count": 25,
   "id": "4490e318",
   "metadata": {},
   "outputs": [],
   "source": [
    "import pandas as pd\n",
    "import json\n",
    "import datetime"
   ]
  },
  {
   "cell_type": "code",
   "execution_count": 59,
   "id": "a2079aa1",
   "metadata": {},
   "outputs": [],
   "source": [
    "def read_mgraph(path):\n",
    "    file = open(path, 'r', encoding='utf-8')\n",
    "    data = json.loads(file.read())\n",
    "    \n",
    "    #Extract headers of dataset from json keys\n",
    "    headers = set()\n",
    "    for record in data['records']:\n",
    "        headers = headers.union(list(record.keys()))\n",
    "    headers = list(headers)\n",
    "    \n",
    "    #Create a dictionary with empty lists as values\n",
    "    dic = {}\n",
    "    for header in headers:\n",
    "        dic[header] = []\n",
    "    \n",
    "    #Extract every value from records using the headers values\n",
    "    for record in data['records']:\n",
    "        for header in headers:\n",
    "            dic[header] = dic[header] + [record[header]]\n",
    "            \n",
    "    #Create and return the data frame\n",
    "    df = pd.DataFrame.from_dict(dic)\n",
    "    return df"
   ]
  },
  {
   "cell_type": "code",
   "execution_count": 62,
   "id": "49ab0937",
   "metadata": {},
   "outputs": [],
   "source": [
    "#Example\n",
    "df = read_mgraph('./output.json')"
   ]
  }
 ],
 "metadata": {
  "kernelspec": {
   "display_name": "Python 3 (ipykernel)",
   "language": "python",
   "name": "python3"
  },
  "language_info": {
   "codemirror_mode": {
    "name": "ipython",
    "version": 3
   },
   "file_extension": ".py",
   "mimetype": "text/x-python",
   "name": "python",
   "nbconvert_exporter": "python",
   "pygments_lexer": "ipython3",
   "version": "3.10.9"
  }
 },
 "nbformat": 4,
 "nbformat_minor": 5
}
